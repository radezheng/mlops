{
  "cells": [
    {
      "cell_type": "code",
      "source": [
        "# import required libraries\n",
        "from azure.identity import DefaultAzureCredential, InteractiveBrowserCredential\n",
        "from azure.ai.ml import MLClient, Input, Output, load_component\n",
        "from azure.ai.ml.dsl import pipeline\n",
        "from azure.ai.ml.entities import Environment\n",
        "from azure.ai.ml.constants import AssetTypes, InputOutputModes\n",
        "from azure.ai.ml.parallel import parallel_run_function, RunFunction"
      ],
      "outputs": [],
      "execution_count": 3,
      "metadata": {
        "gather": {
          "logged": 1727678122750
        }
      }
    },
    {
      "cell_type": "code",
      "source": [
        "try:\n",
        "    credential = DefaultAzureCredential()\n",
        "    # Check if given credential can get token successfully.\n",
        "    credential.get_token(\"https://management.azure.com/.default\")\n",
        "except Exception as ex:\n",
        "    # Fall back to InteractiveBrowserCredential in case DefaultAzureCredential not work\n",
        "    credential = InteractiveBrowserCredential()"
      ],
      "outputs": [],
      "execution_count": 4,
      "metadata": {
        "jupyter": {
          "source_hidden": false,
          "outputs_hidden": false
        },
        "nteract": {
          "transient": {
            "deleting": false
          }
        },
        "gather": {
          "logged": 1727678125115
        }
      }
    },
    {
      "cell_type": "code",
      "source": [
        "# Get a handle to workspace\n",
        "ml_client = MLClient.from_config(credential=credential)\n",
        "\n",
        "# Retrieve an already attached Azure Machine Learning Compute.\n",
        "# cpu_compute_target = \"cpu-cluster\"\n",
        "# print(ml_client.compute.get(cpu_compute_target))\n",
        "# gpu_compute_target = \"A10024\"\n",
        "# print(ml_client.compute.get(gpu_compute_target))"
      ],
      "outputs": [
        {
          "output_type": "stream",
          "name": "stderr",
          "text": "Found the config file in: /config.json\n"
        }
      ],
      "execution_count": 5,
      "metadata": {
        "jupyter": {
          "source_hidden": false,
          "outputs_hidden": false
        },
        "nteract": {
          "transient": {
            "deleting": false
          }
        },
        "gather": {
          "logged": 1727678127763
        }
      }
    },
    {
      "cell_type": "code",
      "source": [
        "\n",
        "\n",
        "# parallel task to process file data\n",
        "file_batch_inference = parallel_run_function(\n",
        "    name=\"file_batch_score\",\n",
        "    display_name=\"Batch Score with File Dataset\",\n",
        "    description=\"parallel component for batch score\",\n",
        "    inputs=dict(\n",
        "        job_data_path=Input(\n",
        "            type=AssetTypes.URI_FOLDER,\n",
        "            description=\"The data to be split and scored in parallel\",\n",
        "        )\n",
        "    ),\n",
        "    # outputs=dict(\n",
        "    #     job_output_path=Output(type=\"uri_folder\", path=\"./output\")\n",
        "    # ),\n",
        "    input_data=\"${{inputs.job_data_path}}\",\n",
        "    instance_count=1,\n",
        "    max_concurrency_per_instance=1,\n",
        "    mini_batch_size=\"1\",\n",
        "    mini_batch_error_threshold=1,\n",
        "    retry_settings=dict(max_retries=2, timeout=60),\n",
        "    logging_level=\"DEBUG\",\n",
        "    is_deterministic=False,\n",
        "    task=RunFunction(\n",
        "        code=\"./\",\n",
        "        entry_script=\"test.py\",\n",
        "        # program_arguments=\"--job_output_path ${{outputs.job_output_path}}\",\n",
        "        # environment=ml_client.environments.get(name=\"testenv\", version=\"1\")\n",
        "        environment=\"azureml://registries/azureml/environments/sklearn-1.5/labels/latest\"\n",
        "    ),\n",
        ")"
      ],
      "outputs": [],
      "execution_count": 6,
      "metadata": {
        "jupyter": {
          "source_hidden": false,
          "outputs_hidden": false
        },
        "nteract": {
          "transient": {
            "deleting": false
          }
        },
        "gather": {
          "logged": 1727678129912
        }
      }
    },
    {
      "cell_type": "code",
      "source": [
        "\n",
        "@pipeline()\n",
        "def parallel_in_pipeline():\n",
        "   \n",
        "    batch_inference_with_file_data = file_batch_inference(\n",
        "        job_data_path=Input(path=\"./input/\", type=AssetTypes.URI_FOLDER, mode=InputOutputModes.RO_MOUNT)\n",
        "    )\n",
        "    \n",
        "    return {\n",
        "        # \"pipeline_job_out_file\": batch_inference_with_file_data.outputs.job_output_path,\n",
        "        # \"pipeline_job_out_tabular\": batch_inference_with_tabular_data.outputs.job_output_path,\n",
        "    }\n",
        "\n",
        "# create a pipeline\n",
        "pipeline_job = parallel_in_pipeline(\n",
        "    # pipeline_job_data_path=pipeline_job_data_path,\n",
        "    # pipeline_score_model=pipeline_score_model,\n",
        ")\n",
        "# pipeline_job.outputs.pipeline_job_out_tabular.type = AssetTypes.URI_FILE\n",
        "\n",
        "# set pipeline level compute\n",
        "pipeline_job.settings.default_compute = \"zhzhen1\""
      ],
      "outputs": [],
      "execution_count": 7,
      "metadata": {
        "jupyter": {
          "source_hidden": false,
          "outputs_hidden": false
        },
        "nteract": {
          "transient": {
            "deleting": false
          }
        },
        "gather": {
          "logged": 1727678134122
        }
      }
    },
    {
      "cell_type": "code",
      "source": [
        "pipeline_job = ml_client.jobs.create_or_update(\n",
        "    pipeline_job, experiment_name=\"pipeline_samples\"\n",
        ")\n",
        "pipeline_job"
      ],
      "outputs": [
        {
          "output_type": "stream",
          "name": "stderr",
          "text": "Class AutoDeleteSettingSchema: This is an experimental class, and may change at any time. Please see https://aka.ms/azuremlexperimental for more information.\nClass AutoDeleteConditionSchema: This is an experimental class, and may change at any time. Please see https://aka.ms/azuremlexperimental for more information.\nClass BaseAutoDeleteSettingSchema: This is an experimental class, and may change at any time. Please see https://aka.ms/azuremlexperimental for more information.\nClass IntellectualPropertySchema: This is an experimental class, and may change at any time. Please see https://aka.ms/azuremlexperimental for more information.\nClass ProtectionLevelSchema: This is an experimental class, and may change at any time. Please see https://aka.ms/azuremlexperimental for more information.\nClass BaseIntellectualPropertySchema: This is an experimental class, and may change at any time. Please see https://aka.ms/azuremlexperimental for more information.\n\u001b[32mUploading input (0.0 MBs): 100%|██████████| 325/325 [00:00<00:00, 41724.79it/s]\n\u001b[39m\n\n\u001b[32mUploading src (0.02 MBs): 100%|██████████| 22843/22843 [00:00<00:00, 194679.39it/s]\n\u001b[39m\n\n"
        },
        {
          "output_type": "execute_result",
          "execution_count": 7,
          "data": {
            "text/plain": "PipelineJob({'inputs': {}, 'outputs': {}, 'jobs': {}, 'component': PipelineComponent({'latest_version': None, 'intellectual_property': None, 'auto_increment_version': False, 'source': 'REMOTE.WORKSPACE.JOB', 'is_anonymous': True, 'auto_delete_setting': None, 'name': 'azureml_anonymous', 'description': None, 'tags': {}, 'properties': {}, 'print_as_yaml': False, 'id': None, 'Resource__source_path': None, 'base_path': '/mnt/batch/tasks/shared/LS_root/mounts/clusters/zhzhen1/code/Users/zhzhen/simplejob/src', 'creation_context': None, 'serialize': <msrest.serialization.Serializer object at 0x7fa90043ee00>, 'version': '1', 'schema': None, 'type': 'pipeline', 'display_name': 'parallel_in_pipeline', 'is_deterministic': None, 'inputs': {}, 'outputs': {}, 'yaml_str': None, 'other_parameter': {}, 'jobs': {'file_batch_score': Parallel({'init': False, 'name': 'file_batch_score', 'type': 'parallel', 'status': None, 'log_files': None, 'description': None, 'tags': {}, 'properties': {}, 'print_as_yaml': False, 'id': None, 'Resource__source_path': '', 'base_path': '/mnt/batch/tasks/shared/LS_root/mounts/clusters/zhzhen1/code/Users/zhzhen/simplejob/src', 'creation_context': None, 'serialize': <msrest.serialization.Serializer object at 0x7fa90043e890>, 'allowed_keys': {}, 'key_restriction': False, 'logger': <TraceLogger attr_dict (WARNING)>, 'display_name': 'Batch Score with File Dataset', 'experiment_name': None, 'compute': None, 'services': None, 'comment': None, 'job_inputs': {'job_data_path': {'type': 'uri_folder', 'path': 'azureml://datastores/workspaceblobstore/paths/LocalUpload/1e9f16ec01f583007ad2492666b653bf/input/', 'mode': 'ro_mount'}}, 'job_outputs': {}, 'inputs': {'job_data_path': <azure.ai.ml.entities._job.pipeline._io.base.NodeInput object at 0x7fa90043e6e0>}, 'outputs': {}, 'component': 'azureml_anonymous:4e818362-022a-44ec-a3d7-4a1c80b9a01c', 'referenced_control_flow_node_instance_id': None, 'kwargs': {}, 'instance_id': '3a866891-ae1c-4b46-822e-9b503d167907', 'source': 'BUILDER', 'validate_required_input_not_provided': True, 'task': {'type': 'run_function', 'code': '/subscriptions/3158be26-2033-4ef0-98c4-2c77cfb66a18/resourceGroups/amlrg/providers/Microsoft.MachineLearningServices/workspaces/mljpe/codes/b45e01b9-77aa-46d5-b992-bdf80a80b57c/versions/1', 'entry_script': 'test.py', 'environment': '//registries/azureml/environments/sklearn-1.5/labels/latest'}, 'mini_batch_size': 1, 'partition_keys': None, 'input_data': '${{inputs.job_data_path}}', 'retry_settings': {'timeout': 60, 'max_retries': 2}, 'logging_level': 'DEBUG', 'max_concurrency_per_instance': 1, 'error_threshold': None, 'mini_batch_error_threshold': 1, 'resources': {'instance_count': 1}, 'environment_variables': {}, 'identity': None})}, 'job_types': {'parallel': 1}, 'job_sources': {'BUILDER': 1}, 'source_job_id': None}), 'type': 'pipeline', 'status': 'NotStarted', 'log_files': None, 'name': 'green_chain_c843q7bn3z', 'description': None, 'tags': {}, 'properties': {}, 'print_as_yaml': False, 'id': '/subscriptions/3158be26-2033-4ef0-98c4-2c77cfb66a18/resourceGroups/amlrg/providers/Microsoft.MachineLearningServices/workspaces/mljpe/jobs/green_chain_c843q7bn3z', 'Resource__source_path': '', 'base_path': '/mnt/batch/tasks/shared/LS_root/mounts/clusters/zhzhen1/code/Users/zhzhen/simplejob/src', 'creation_context': <azure.ai.ml.entities._system_data.SystemData object at 0x7fa90043ef80>, 'serialize': <msrest.serialization.Serializer object at 0x7fa90043ca90>, 'display_name': 'parallel_in_pipeline', 'experiment_name': 'pipeline_samples', 'compute': None, 'services': {'Tracking': {'endpoint': 'azureml://japaneast.api.azureml.ms/mlflow/v1.0/subscriptions/3158be26-2033-4ef0-98c4-2c77cfb66a18/resourceGroups/amlrg/providers/Microsoft.MachineLearningServices/workspaces/mljpe?', 'type': 'Tracking'}, 'Studio': {'endpoint': 'https://ml.azure.com/runs/green_chain_c843q7bn3z?wsid=/subscriptions/3158be26-2033-4ef0-98c4-2c77cfb66a18/resourcegroups/amlrg/workspaces/mljpe&tid=16b3c013-d300-468d-ac64-7eda0820b6d3', 'type': 'Studio'}}, 'settings': {}, 'identity': None, 'default_code': None, 'default_environment': None})",
            "text/html": "<table style=\"width:100%\"><tr><th>Experiment</th><th>Name</th><th>Type</th><th>Status</th><th>Details Page</th></tr><tr><td>pipeline_samples</td><td>green_chain_c843q7bn3z</td><td>pipeline</td><td>NotStarted</td><td><a href=\"https://ml.azure.com/runs/green_chain_c843q7bn3z?wsid=/subscriptions/3158be26-2033-4ef0-98c4-2c77cfb66a18/resourcegroups/amlrg/workspaces/mljpe&amp;tid=16b3c013-d300-468d-ac64-7eda0820b6d3\" target=\"_blank\" rel=\"noopener\">Link to Azure Machine Learning studio</a></td></tr></table>"
          },
          "metadata": {}
        }
      ],
      "execution_count": 7,
      "metadata": {
        "jupyter": {
          "source_hidden": false,
          "outputs_hidden": false
        },
        "nteract": {
          "transient": {
            "deleting": false
          }
        },
        "gather": {
          "logged": 1727597272556
        }
      }
    },
    {
      "cell_type": "code",
      "source": [
        "from datetime import datetime, timedelta\n",
        "from azure.identity import DefaultAzureCredential, InteractiveBrowserCredential\n",
        "\n",
        "from azure.ai.ml import MLClient, Input, load_component\n",
        "from azure.ai.ml.constants import TimeZone\n",
        "from azure.ai.ml.dsl import pipeline\n",
        "from azure.ai.ml.entities import (\n",
        "    JobSchedule,\n",
        "    CronTrigger,\n",
        "    RecurrenceTrigger,\n",
        "    RecurrencePattern,\n",
        ")\n",
        "from datetime import datetime\n",
        "\n",
        "\n",
        "# Set the start time to UTC+8\n",
        "schedule_start_time = datetime.utcnow() + timedelta(hours=8)\n",
        "schedule_name = \"test_schedule1\"\n",
        "\n",
        "# Update the recurrence trigger to run every 5 minutes\n",
        "recurrence_trigger = RecurrenceTrigger(\n",
        "    frequency=\"minute\",\n",
        "    interval=5,\n",
        "    # schedule=RecurrencePattern(hours=[], minutes=list(range(0, 60, 5))),\n",
        "    start_time=schedule_start_time,\n",
        "    time_zone=TimeZone(\"China Standard Time\"),\n",
        ")\n",
        "\n",
        "# Create the job schedule\n",
        "job_schedule = JobSchedule(\n",
        "    name= schedule_name, \n",
        "    trigger=recurrence_trigger, \n",
        "    create_job=pipeline_job\n",
        ")\n"
      ],
      "outputs": [],
      "execution_count": 8,
      "metadata": {
        "jupyter": {
          "source_hidden": false,
          "outputs_hidden": false
        },
        "nteract": {
          "transient": {
            "deleting": false
          }
        },
        "gather": {
          "logged": 1727678141274
        }
      }
    },
    {
      "cell_type": "code",
      "source": [
        "job_schedule = ml_client.schedules.begin_create_or_update(\n",
        "    schedule=job_schedule\n",
        ").result()\n",
        "print(job_schedule)"
      ],
      "outputs": [
        {
          "output_type": "stream",
          "name": "stderr",
          "text": "Class AutoDeleteSettingSchema: This is an experimental class, and may change at any time. Please see https://aka.ms/azuremlexperimental for more information.\nClass AutoDeleteConditionSchema: This is an experimental class, and may change at any time. Please see https://aka.ms/azuremlexperimental for more information.\nClass BaseAutoDeleteSettingSchema: This is an experimental class, and may change at any time. Please see https://aka.ms/azuremlexperimental for more information.\nClass IntellectualPropertySchema: This is an experimental class, and may change at any time. Please see https://aka.ms/azuremlexperimental for more information.\nClass ProtectionLevelSchema: This is an experimental class, and may change at any time. Please see https://aka.ms/azuremlexperimental for more information.\nClass BaseIntellectualPropertySchema: This is an experimental class, and may change at any time. Please see https://aka.ms/azuremlexperimental for more information.\n\u001b[32mUploading input (0.0 MBs): 100%|██████████| 327/327 [00:00<00:00, 20849.74it/s]\n\u001b[39m\n\n\u001b[32mUploading src (0.03 MBs): 100%|██████████| 30947/30947 [00:00<00:00, 287712.32it/s]\n\u001b[39m\n\n"
        },
        {
          "output_type": "stream",
          "name": "stdout",
          "text": "..name: test_schedule1\ncreate_job:\n  display_name: parallel_in_pipeline\n  status: NotStarted\n  experiment_name: Default\n  type: pipeline\n  settings:\n    default_compute: azureml:/subscriptions/3158be26-2033-4ef0-98c4-2c77cfb66a18/resourceGroups/amlrg/providers/Microsoft.MachineLearningServices/workspaces/mljpe/computes/zhzhen1\n  jobs:\n    file_batch_score:\n      logging_level: DEBUG\n      task:\n        type: run_function\n        code: azureml:/subscriptions/3158be26-2033-4ef0-98c4-2c77cfb66a18/resourceGroups/amlrg/providers/Microsoft.MachineLearningServices/workspaces/mljpe/codes/2c86fb69-e49c-4003-84d3-bfeecb7ee3e6/versions/1\n        entry_script: test.py\n        environment: azureml://registries/azureml/environments/sklearn-1.5/labels/latest\n      mini_batch_size: '1'\n      input_data: ${{inputs.job_data_path}}\n      resources:\n        instance_count: 1\n      retry_settings:\n        timeout: 60\n        max_retries: 2\n      max_concurrency_per_instance: 1\n      mini_batch_error_threshold: 1\n      inputs:\n        job_data_path:\n          mode: ro_mount\n          type: uri_folder\n          path: azureml://datastores/workspaceblobstore/paths/LocalUpload/cef68bf3555951521672a6d1114fd32b/input/\n      component: azureml:/subscriptions/3158be26-2033-4ef0-98c4-2c77cfb66a18/resourceGroups/amlrg/providers/Microsoft.MachineLearningServices/workspaces/mljpe/components/azureml_anonymous/versions/198fc493-74b7-49db-92b7-e53af5fe4c44\n      type: parallel\ncreation_context:\n  created_at: '2024-09-29T09:31:29.235725+00:00'\n  created_by: Rade Zheng\n  created_by_type: User\n  last_modified_at: '2024-09-30T06:36:03.671374+00:00'\n  last_modified_by: Rade Zheng\n  last_modified_by_type: User\nis_enabled: true\nprovisioning_state: Succeeded\ntrigger:\n  start_time: '2024-09-30 14:35:41.289432'\n  time_zone: China Standard Time\n  type: recurrence\n  frequency: minute\n  interval: 5\n  schedule:\n    hours: []\n    minutes: []\n\n"
        }
      ],
      "execution_count": 9,
      "metadata": {
        "jupyter": {
          "source_hidden": false,
          "outputs_hidden": false
        },
        "nteract": {
          "transient": {
            "deleting": false
          }
        },
        "gather": {
          "logged": 1727678165482
        }
      }
    },
    {
      "cell_type": "code",
      "source": [
        "import time\n",
        "\n",
        "startts = int(time.time())\n",
        "print(\"startts: \", startts)"
      ],
      "outputs": [
        {
          "output_type": "stream",
          "name": "stdout",
          "text": "startts:  1727600410\n"
        }
      ],
      "execution_count": 19,
      "metadata": {
        "jupyter": {
          "source_hidden": false,
          "outputs_hidden": false
        },
        "nteract": {
          "transient": {
            "deleting": false
          }
        },
        "gather": {
          "logged": 1727600410712
        }
      }
    },
    {
      "cell_type": "code",
      "source": [
        "\n",
        "from azure.ai.ml import MLClient, command, Input\n",
        "from azure.ai.ml.constants import AssetTypes, InputOutputModes\n",
        "from azure.identity import DefaultAzureCredential\n",
        "\n",
        "ml_client = MLClient.from_config(credential=DefaultAzureCredential())\n",
        "\n",
        "data_asset = ml_client.data.get(\"azureml_green_chain_c843q7bn3z_input_data_file_batch_score_job_data_path\", version=\"1\")\n",
        "\n",
        "# to successfully create a job, customize the parameters below based on your workspace resources\n",
        "job = command(\n",
        "        command='ls \"${{inputs.data}}\"',\n",
        "        inputs={\n",
        "            \"data\": Input(path=data_asset.id,\n",
        "                type=AssetTypes.URI_FOLDER,\n",
        "                mode=InputOutputModes.RO_MOUNT\n",
        "            )\n",
        "        },\n",
        "        environment=\"azureml:AzureML-sklearn-1.0-ubuntu20.04-py38-cpu@latest\"\n",
        "      )\n",
        "returned_job = ml_client.jobs.create_or_update(job)"
      ],
      "outputs": [
        {
          "output_type": "stream",
          "name": "stderr",
          "text": "Found the config file in: /config.json\n"
        }
      ],
      "execution_count": 48,
      "metadata": {
        "jupyter": {
          "source_hidden": false,
          "outputs_hidden": false
        },
        "nteract": {
          "transient": {
            "deleting": false
          }
        },
        "gather": {
          "logged": 1727603749533
        }
      }
    },
    {
      "cell_type": "code",
      "source": [
        "\n",
        "import mltable\n",
        "from azure.ai.ml import MLClient\n",
        "from azure.identity import DefaultAzureCredential\n",
        "\n",
        "ml_client = MLClient.from_config(credential=DefaultAzureCredential())\n",
        "data_asset = ml_client.data.get(\"azureml_green_chain_c843q7bn3z_input_data_file_batch_score_job_data_path\", version=\"1\")\n",
        "\n",
        "path = {\n",
        "  'folder': data_asset.path\n",
        "}\n",
        "\n",
        "tbl = mltable.from_delimited_files(paths=[path])\n",
        "df = tbl.to_pandas_dataframe()\n",
        "df"
      ],
      "outputs": [
        {
          "output_type": "stream",
          "name": "stderr",
          "text": "Found the config file in: /config.json\n/anaconda/envs/azureml_py310_sdkv2/lib/python3.10/site-packages/azureml/dataprep/api/_dataframereader.py:251: UserWarning: Using alternate reader. Inconsistent or mixed schemas detected across partitions: partition had different number of columns. The first partition has 1 columns. Found partition has 2 columns.\nFirst partition columns (ordered): ['## This file was auto generated by the Azure Machine Learning Studio. Please do not remove.']\nFound Partition has columns (ordered): ['## This file was auto generated by the Azure Machine Learning Studio. Please do not remove.', 'Column2']\n  warnings.warn(\"Using alternate reader. \" + reason)\n"
        },
        {
          "output_type": "execute_result",
          "execution_count": 47,
          "data": {
            "text/plain": "   ## This file was auto generated by the Azure Machine Learning Studio. Please do not remove.  \\\n0   ## Read more about the .amlignore file here: h...                                            \n1                                                                                                \n2                            .ipynb_aml_checkpoints/                                             \n3                                           *.amltmp                                             \n4                                           *.amltemp                                            \n5                                     8. 问：什么是意外伤害保障？                                            \n6             答：意外伤害保障为对员工因意外伤害造成的身故、伤残，由中意人寿提供一定的经济补                                            \n7             偿。因此，此项保障可以弥补遭受意外伤害时个人和家庭遭受的经济损失。该保障为全球                                            \n8                                         二十四小时的保障责任。                                            \n9                                   9. 问：什么样的情况算意外伤害？                                            \n10            答：意外伤害指遭受外来的、突发的、非本意的、非疾病的客观事件直接致使身体受到的                                            \n11                                      伤害，猝死不属于意外伤害。                                            \n12                                   10. 问：什么是定期寿险保障？                                            \n13            答：定期寿险保障是指当员工因非意外的疾病身故、疾病全残或自然身故时，中意人寿按                                            \n14                约定的保险金额给付身故、全残保险金。该保障为全球二十四小时的保障责任。                                            \n15                                 11. 问：身故保险金的受益人是谁？                                            \n16           答：身故受益人由您指定。指定或变更受益人可填写《团体保险身故受益人指定申请书》。                                            \n17              如果您没有指定身故受益人，那么身故受益人为您的法定受益人，您的身故保险金将                                            \n18                              按《中华人民共和国民法典》第六十四条的规定                                            \n19           华人民共和国继承法》的规定，法定继承人为：第一顺序：配偶、子女、父母；第二顺序：                                            \n20                                      兄弟姐妹、祖父母、外祖父母                                            \n\n                Column2  \n0                  None  \n1                  None  \n2                  None  \n3                  None  \n4                  None  \n5                  None  \n6                  None  \n7                  None  \n8                  None  \n9                  None  \n10                 None  \n11                 None  \n12                 None  \n13                 None  \n14                 None  \n15                 None  \n16                 None  \n17                 None  \n18  作为遗产由您的法定继承人继承。依照《中  \n19                 None  \n20                 None  ",
            "text/html": "<div>\n<style scoped>\n    .dataframe tbody tr th:only-of-type {\n        vertical-align: middle;\n    }\n\n    .dataframe tbody tr th {\n        vertical-align: top;\n    }\n\n    .dataframe thead th {\n        text-align: right;\n    }\n</style>\n<table border=\"1\" class=\"dataframe\">\n  <thead>\n    <tr style=\"text-align: right;\">\n      <th></th>\n      <th>## This file was auto generated by the Azure Machine Learning Studio. Please do not remove.</th>\n      <th>Column2</th>\n    </tr>\n  </thead>\n  <tbody>\n    <tr>\n      <th>0</th>\n      <td>## Read more about the .amlignore file here: h...</td>\n      <td>None</td>\n    </tr>\n    <tr>\n      <th>1</th>\n      <td></td>\n      <td>None</td>\n    </tr>\n    <tr>\n      <th>2</th>\n      <td>.ipynb_aml_checkpoints/</td>\n      <td>None</td>\n    </tr>\n    <tr>\n      <th>3</th>\n      <td>*.amltmp</td>\n      <td>None</td>\n    </tr>\n    <tr>\n      <th>4</th>\n      <td>*.amltemp</td>\n      <td>None</td>\n    </tr>\n    <tr>\n      <th>5</th>\n      <td>8. 问：什么是意外伤害保障？</td>\n      <td>None</td>\n    </tr>\n    <tr>\n      <th>6</th>\n      <td>答：意外伤害保障为对员工因意外伤害造成的身故、伤残，由中意人寿提供一定的经济补</td>\n      <td>None</td>\n    </tr>\n    <tr>\n      <th>7</th>\n      <td>偿。因此，此项保障可以弥补遭受意外伤害时个人和家庭遭受的经济损失。该保障为全球</td>\n      <td>None</td>\n    </tr>\n    <tr>\n      <th>8</th>\n      <td>二十四小时的保障责任。</td>\n      <td>None</td>\n    </tr>\n    <tr>\n      <th>9</th>\n      <td>9. 问：什么样的情况算意外伤害？</td>\n      <td>None</td>\n    </tr>\n    <tr>\n      <th>10</th>\n      <td>答：意外伤害指遭受外来的、突发的、非本意的、非疾病的客观事件直接致使身体受到的</td>\n      <td>None</td>\n    </tr>\n    <tr>\n      <th>11</th>\n      <td>伤害，猝死不属于意外伤害。</td>\n      <td>None</td>\n    </tr>\n    <tr>\n      <th>12</th>\n      <td>10. 问：什么是定期寿险保障？</td>\n      <td>None</td>\n    </tr>\n    <tr>\n      <th>13</th>\n      <td>答：定期寿险保障是指当员工因非意外的疾病身故、疾病全残或自然身故时，中意人寿按</td>\n      <td>None</td>\n    </tr>\n    <tr>\n      <th>14</th>\n      <td>约定的保险金额给付身故、全残保险金。该保障为全球二十四小时的保障责任。</td>\n      <td>None</td>\n    </tr>\n    <tr>\n      <th>15</th>\n      <td>11. 问：身故保险金的受益人是谁？</td>\n      <td>None</td>\n    </tr>\n    <tr>\n      <th>16</th>\n      <td>答：身故受益人由您指定。指定或变更受益人可填写《团体保险身故受益人指定申请书》。</td>\n      <td>None</td>\n    </tr>\n    <tr>\n      <th>17</th>\n      <td>如果您没有指定身故受益人，那么身故受益人为您的法定受益人，您的身故保险金将</td>\n      <td>None</td>\n    </tr>\n    <tr>\n      <th>18</th>\n      <td>按《中华人民共和国民法典》第六十四条的规定</td>\n      <td>作为遗产由您的法定继承人继承。依照《中</td>\n    </tr>\n    <tr>\n      <th>19</th>\n      <td>华人民共和国继承法》的规定，法定继承人为：第一顺序：配偶、子女、父母；第二顺序：</td>\n      <td>None</td>\n    </tr>\n    <tr>\n      <th>20</th>\n      <td>兄弟姐妹、祖父母、外祖父母</td>\n      <td>None</td>\n    </tr>\n  </tbody>\n</table>\n</div>"
          },
          "metadata": {}
        }
      ],
      "execution_count": 47,
      "metadata": {
        "jupyter": {
          "source_hidden": false,
          "outputs_hidden": false
        },
        "nteract": {
          "transient": {
            "deleting": false
          }
        },
        "gather": {
          "logged": 1727603700916
        }
      }
    }
  ],
  "metadata": {
    "kernelspec": {
      "name": "python310-sdkv2",
      "language": "python",
      "display_name": "Python 3.10 - SDK v2"
    },
    "language_info": {
      "name": "python",
      "version": "3.10.14",
      "mimetype": "text/x-python",
      "codemirror_mode": {
        "name": "ipython",
        "version": 3
      },
      "pygments_lexer": "ipython3",
      "nbconvert_exporter": "python",
      "file_extension": ".py"
    },
    "kernel_info": {
      "name": "python310-sdkv2"
    },
    "nteract": {
      "version": "nteract-front-end@1.0.0"
    },
    "microsoft": {
      "host": {
        "AzureML": {
          "notebookHasBeenCompleted": true
        }
      }
    }
  },
  "nbformat": 4,
  "nbformat_minor": 2
}